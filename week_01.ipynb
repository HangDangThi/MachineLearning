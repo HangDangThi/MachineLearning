{
  "nbformat": 4,
  "nbformat_minor": 0,
  "metadata": {
    "colab": {
      "name": "week_01.ipynb",
      "version": "0.3.2",
      "provenance": [],
      "collapsed_sections": []
    },
    "kernelspec": {
      "name": "python3",
      "display_name": "Python 3"
    }
  },
  "cells": [
    {
      "cell_type": "markdown",
      "metadata": {
        "id": "view-in-github",
        "colab_type": "text"
      },
      "source": [
        "[View in Colaboratory](https://colab.research.google.com/github/HangDangThi/MachineLearning/blob/Draft_ML_HD/week_01.ipynb)"
      ]
    },
    {
      "metadata": {
        "id": "ubehFDzWm2zL",
        "colab_type": "code",
        "colab": {
          "base_uri": "https://localhost:8080/",
          "height": 224
        },
        "outputId": "99bc06bd-1acd-48d4-edbc-f839d1a10aee"
      },
      "cell_type": "code",
      "source": [
        "#exercise 01:https://www.practicepython.org/exercise/2014/06/06/17-decode-a-web-page.html\n",
        "import requests as rq\n",
        "from bs4 import BeautifulSoup\n",
        "\n",
        "def DecodeWebpages(url):\n",
        "  r = rq.get(url)\n",
        "  soup = BeautifulSoup(r.text)\n",
        "  \n",
        "  for heading in soup.find_all(class_=\"story_heading\"):\n",
        "    if heading.a:\n",
        "      print(heading.a.text.replace('\\n', ' ').strip())\n",
        "    else:\n",
        "      print(heading.contents[0].strip())\n",
        "      \n",
        "      \n",
        "DecodeWebpages('https://www.nytimes.com/?WT.z_jog=1&hF=f&vS=undefined')\n"
      ],
      "execution_count": 3,
      "outputs": [
        {
          "output_type": "stream",
          "text": [
            "/usr/local/lib/python3.6/dist-packages/bs4/__init__.py:181: UserWarning: No parser was explicitly specified, so I'm using the best available HTML parser for this system (\"html5lib\"). This usually isn't a problem, but if you run this code on another system, or in a different virtual environment, it may use a different parser and behave differently.\n",
            "\n",
            "The code that caused this warning is on line 193 of the file /usr/lib/python3.6/runpy.py. To get rid of this warning, change code that looks like this:\n",
            "\n",
            " BeautifulSoup(YOUR_MARKUP})\n",
            "\n",
            "to this:\n",
            "\n",
            " BeautifulSoup(YOUR_MARKUP, \"html5lib\")\n",
            "\n",
            "  markup_type=markup_type))\n"
          ],
          "name": "stderr"
        }
      ]
    },
    {
      "metadata": {
        "id": "_et-B4eL95IS",
        "colab_type": "text"
      },
      "cell_type": "markdown",
      "source": [
        ""
      ]
    }
  ]
}